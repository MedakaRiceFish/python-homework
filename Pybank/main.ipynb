{
 "cells": [
  {
   "cell_type": "code",
   "execution_count": 104,
   "metadata": {},
   "outputs": [
    {
     "name": "stdout",
     "output_type": "stream",
     "text": [
      "    \n",
      "Financial Analysis\n",
      "----------------------------\n",
      "Total Months: 86\n",
      "Total: $38382578\n",
      "Average Change : $-2315.12\n",
      "Greatest increase in Profits: Feb-2012, ($1926159.0) \n",
      "Greatest Decrease in Profits: Sep-2013,($-2196167.0) \n"
     ]
    }
   ],
   "source": [
    "## Import CSV\n",
    "\n",
    "import pandas as pd\n",
    "\n",
    "\n",
    "df = pd.read_csv (r'/Users/ryanhoward/downloads/Pybankdata.csv')\n",
    "\n",
    "## To Do Calculate the total number of months included in the dataset\n",
    "\n",
    "total_months = len(df)\n",
    "\n",
    "## To do Calculate the net total amount of profit/losses over the entire period\n",
    "\n",
    "total_sum = df['Profit/Losses'].sum()\n",
    "\n",
    "## To Do Calculate the average of the changes in profit/losses over the entire period\n",
    "\n",
    "\n",
    "for index, row in df.iloc[1:].iterrows():   \n",
    "    df.at[index,'Monthly Change']=(df['Profit/Losses'][index]) - (df['Profit/Losses'][index-1])\n",
    "\n",
    "total_average_change = df['Monthly Change'].mean()   \n",
    "\n",
    "## To do Calculate the greatest increase in profits (date and amount) over the entire period\n",
    "\n",
    "## To Do calculate the greatest decrease in prodits (date and amoutn) over the entire period\n",
    "\n",
    "\n",
    "print(\"    \")\n",
    "print(\"Financial Analysis\")\n",
    "print(\"----------------------------\")\n",
    "print(f\"Total Months: {total_months}\")\n",
    "print(f\"Total: ${total_sum}\")\n",
    "print(f\"Average Change : ${total_average_change:.2f}\")\n",
    "print(f\"Greatest increase in Profits: {df['Date'][df['Monthly Change'].idxmax()]}, (${df['Monthly Change'].max()}) \")\n",
    "print(f\"Greatest Decrease in Profits: {df['Date'][df['Monthly Change'].idxmin()]},(${df['Monthly Change'].min()}) \")\n",
    "\n",
    "file = open (\"Financial Analysis: Pybank\", \"w\")\n",
    "\n",
    "\n",
    "file.write (\"Financial Analysis\\n\")\n",
    "file.write (\"----------------------------\\n\")\n",
    "file.write (f\"Total Months: {total_months}\\n\")\n",
    "file.write (f\"Total: ${total_sum}\\n\")\n",
    "file.write (f\"Average Change : ${total_average_change:.2f}\\n\")\n",
    "file.write (f\"Greatest Increase in Profits: {df['Date'][df['Monthly Change'].idxmax()]}, (${df['Monthly Change'].max()}) \\n\")\n",
    "file.write (f\"Greatest Decrease in Profits: {df['Date'][df['Monthly Change'].idxmin()]},(${df['Monthly Change'].min()}) \\n\")\n",
    "\n",
    "file.close()\n"
   ]
  },
  {
   "cell_type": "code",
   "execution_count": null,
   "metadata": {},
   "outputs": [],
   "source": []
  },
  {
   "cell_type": "code",
   "execution_count": null,
   "metadata": {},
   "outputs": [],
   "source": []
  }
 ],
 "metadata": {
  "kernelspec": {
   "display_name": "Python 3",
   "language": "python",
   "name": "python3"
  },
  "language_info": {
   "codemirror_mode": {
    "name": "ipython",
    "version": 3
   },
   "file_extension": ".py",
   "mimetype": "text/x-python",
   "name": "python",
   "nbconvert_exporter": "python",
   "pygments_lexer": "ipython3",
   "version": "3.7.7"
  }
 },
 "nbformat": 4,
 "nbformat_minor": 4
}
