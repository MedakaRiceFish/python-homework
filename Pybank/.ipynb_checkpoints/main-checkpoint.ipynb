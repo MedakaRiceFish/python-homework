{
 "cells": [
  {
   "cell_type": "code",
   "execution_count": 21,
   "metadata": {},
   "outputs": [
    {
     "name": "stdout",
     "output_type": "stream",
     "text": [
      "        Date  Profit/Losses\n",
      "0   Jan-2010         867884\n",
      "1   Feb-2010         984655\n",
      "2   Mar-2010         322013\n",
      "3   Apr-2010         -69417\n",
      "4   May-2010         310503\n",
      "..       ...            ...\n",
      "81  Oct-2016         102685\n",
      "82  Nov-2016         795914\n",
      "83  Dec-2016          60988\n",
      "84  Jan-2017         138230\n",
      "85  Feb-2017         671099\n",
      "\n",
      "[86 rows x 2 columns]\n",
      "    \n",
      "Financial Analysis\n",
      "----------------------------\n",
      "Total Months: 86\n",
      "Total: $38382578\n",
      "Average Change:\n",
      "Greatest Increase in Profits:\n",
      "Greatest Decrease in Profits:\n"
     ]
    }
   ],
   "source": [
    "## Import CSV\n",
    "\n",
    "import pandas as pd\n",
    "\n",
    "df = pd.read_csv (r'/Users/ryanhoward/downloads/Pybankdata.csv')\n",
    "print(df)\n",
    "\n",
    "## To Do Calculate the total number of months included in the dataset\n",
    "\n",
    "total_months = len(df)\n",
    "\n",
    "## To do Calculate the net total amount of profit/losses over the entire period\n",
    "\n",
    "total_sum = df['Profit/Losses'].sum()\n",
    "\n",
    "## To Do Calculate the average of the changes in profit/losses over the entire period\n",
    "\n",
    "## To do Calculate the greatest increase in profits (date and amount) over the entire period\n",
    "\n",
    "## To Do calculate the greatest decrease in prodits (date and amoutn) over the entire period\n",
    "print(\"    \")\n",
    "print(\"Financial Analysis\")\n",
    "print(\"----------------------------\")\n",
    "print(f\"Total Months: {total_months}\")\n",
    "print(f\"Total: ${total_sum}\")\n",
    "print(f\"Average Change:\")\n",
    "print(f\"Greatest Increase in Profits:\")\n",
    "print(f\"Greatest Decrease in Profits:\")\n"
   ]
  },
  {
   "cell_type": "code",
   "execution_count": null,
   "metadata": {},
   "outputs": [],
   "source": []
  },
  {
   "cell_type": "code",
   "execution_count": null,
   "metadata": {},
   "outputs": [],
   "source": []
  }
 ],
 "metadata": {
  "kernelspec": {
   "display_name": "Python 3",
   "language": "python",
   "name": "python3"
  },
  "language_info": {
   "codemirror_mode": {
    "name": "ipython",
    "version": 3
   },
   "file_extension": ".py",
   "mimetype": "text/x-python",
   "name": "python",
   "nbconvert_exporter": "python",
   "pygments_lexer": "ipython3",
   "version": "3.7.7"
  }
 },
 "nbformat": 4,
 "nbformat_minor": 4
}
